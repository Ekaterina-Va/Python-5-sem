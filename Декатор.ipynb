{
 "cells": [
  {
   "cell_type": "code",
   "execution_count": 19,
   "metadata": {},
   "outputs": [],
   "source": [
    "import datetime\n",
    "import inspect\n",
    "\n",
    "\n",
    "def decorator_for_path(path):\n",
    "    def my_decorator(func_to_decorate):\n",
    "        def wrapped_funk(*args, **kwargs):\n",
    "            start = datetime.datetime.now()\n",
    "            result = func_to_decorate(*args, **kwargs)\n",
    "            if result is None:\n",
    "                result = '-'\n",
    "            finish = datetime.datetime.now()\n",
    "            args = inspect.getfullargspec(func_to_decorate)\n",
    "            with open(path, 'w') as file:\n",
    "                file.write('Время вызова функции: {} \\nВходящие Аргументы: {} \\nОтвет: {} \\nВремя завершения работы функции: {} \\nВремя работы функции: {}'.format(start,  args[0], result, finish, start - finish))\n",
    "        return wrapped_funk  \n",
    "    return my_decorator\n",
    "\n",
    "my_path = 'D:\\doc.txt' \n",
    "\n",
    "\n",
    "@decorator_for_path(my_path)\n",
    "def chisto_fun_k (k, l, m):\n",
    "    return k*l+m\n",
    "\n",
    "chisto_fun_k (1,2,3)\n",
    "\n"
   ]
  },
  {
   "cell_type": "code",
   "execution_count": null,
   "metadata": {},
   "outputs": [],
   "source": []
  },
  {
   "cell_type": "code",
   "execution_count": null,
   "metadata": {},
   "outputs": [],
   "source": []
  }
 ],
 "metadata": {
  "kernelspec": {
   "display_name": "Python 3",
   "language": "python",
   "name": "python3"
  },
  "language_info": {
   "codemirror_mode": {
    "name": "ipython",
    "version": 3
   },
   "file_extension": ".py",
   "mimetype": "text/x-python",
   "name": "python",
   "nbconvert_exporter": "python",
   "pygments_lexer": "ipython3",
   "version": "3.8.3"
  }
 },
 "nbformat": 4,
 "nbformat_minor": 4
}
